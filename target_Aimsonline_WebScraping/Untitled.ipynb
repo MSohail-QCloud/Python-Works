{
 "cells": [
  {
   "cell_type": "code",
   "execution_count": 1,
   "id": "70ff37f4",
   "metadata": {},
   "outputs": [],
   "source": [
    "from bs4 import BeautifulSoup"
   ]
  },
  {
   "cell_type": "code",
   "execution_count": 25,
   "id": "3f043afc",
   "metadata": {},
   "outputs": [
    {
     "data": {
      "text/plain": [
       "<Response [200]>"
      ]
     },
     "execution_count": 25,
     "metadata": {},
     "output_type": "execute_result"
    }
   ],
   "source": [
    "import requests\n",
    "dpci=\"025-03-0027\"\n",
    "link=\"https://www.target.com/s?searchTerm=\"+dpci\n",
    "#link=\"https://www.target.com/p/women-s-active-striped-compression-2pk-knee-high-athletic-socks-all-in-motion-4-10/-/A-78803757?preselect=78463450#lnk=sametab\"\n",
    "page = requests.get(link)#https://www.target.com/s?searchTerm=025-03-0027\n",
    "page"
   ]
  },
  {
   "cell_type": "code",
   "execution_count": 28,
   "id": "97b0897a",
   "metadata": {},
   "outputs": [],
   "source": [
    "html_data=BeautifulSoup(page.text,\"html.parser\")\n"
   ]
  },
  {
   "cell_type": "markdown",
   "id": "61bc1131",
   "metadata": {},
   "source": [
    "html_data"
   ]
  },
  {
   "cell_type": "code",
   "execution_count": 37,
   "id": "5c9074c1",
   "metadata": {},
   "outputs": [
    {
     "ename": "SyntaxError",
     "evalue": "invalid syntax (<ipython-input-37-8fa6aebb5bbb>, line 3)",
     "output_type": "error",
     "traceback": [
      "\u001b[1;36m  File \u001b[1;32m\"<ipython-input-37-8fa6aebb5bbb>\"\u001b[1;36m, line \u001b[1;32m3\u001b[0m\n\u001b[1;33m    for data1 in html_data.find_all(class = 'Row-sc-uds8za-0 fYHWLy styles__StyledProductCardRow-sc-mkgs8k-1 dfyunL'):\u001b[0m\n\u001b[1;37m                                    ^\u001b[0m\n\u001b[1;31mSyntaxError\u001b[0m\u001b[1;31m:\u001b[0m invalid syntax\n"
     ]
    }
   ],
   "source": [
    "\n",
    "#soup = BeautifulSoup(open(link), \"html.parser\")\n",
    "a=\n",
    "for data1 in html_data.find_all(class = 'Row-sc-uds8za-0 fYHWLy styles__StyledProductCardRow-sc-mkgs8k-1 dfyunL'):\n",
    "    print(data1.decode_contents(), sep=\"\\n\")"
   ]
  },
  {
   "cell_type": "code",
   "execution_count": 42,
   "id": "a614be10",
   "metadata": {},
   "outputs": [
    {
     "name": "stdout",
     "output_type": "stream",
     "text": [
      "None\n"
     ]
    }
   ],
   "source": [
    "import requests\n",
    "from bs4 import BeautifulSoup\n",
    "url = 'http://www.webscrapingfordatascience.com/simplejavascript/'\n",
    "r = requests.get(url)\n",
    "html_soup = BeautifulSoup(r.text, 'html.parser')\n",
    "# No tag will be found here\n",
    "ul_tag = html_soup.find('ul')\n",
    "print(ul_tag)"
   ]
  },
  {
   "cell_type": "code",
   "execution_count": 46,
   "id": "204162df",
   "metadata": {},
   "outputs": [
    {
     "name": "stdout",
     "output_type": "stream",
     "text": [
      "<script>\r\n",
      "\t$(function() {\r\n",
      "\tdocument.cookie = \"jsenabled=1\";\r\n",
      "\t$.getJSON(\"quotes.php\", function(data) {\r\n",
      "\t\tvar items = [];\r\n",
      "\t\t$.each(data, function(key, val) {\r\n",
      "\t\t\titems.push(\"<li id='\" + key + \"'>\" + val + \"</li>\");\r\n",
      "\t\t});\r\n",
      "\t\t$(\"<ul/>\", {\r\n",
      "\t\t\thtml: items.join(\"\")\r\n",
      "\t\t\t}).appendTo(\"body\");\r\n",
      "\t\t});\r\n",
      "\t});\r\n",
      "\t</script>\n"
     ]
    }
   ],
   "source": [
    "# Show the JavaScript code\n",
    "script_tag = html_soup.find('script', attrs={'src': None})\n",
    "print(script_tag)"
   ]
  },
  {
   "cell_type": "code",
   "execution_count": 47,
   "id": "37525464",
   "metadata": {},
   "outputs": [
    {
     "name": "stdout",
     "output_type": "stream",
     "text": [
      "['Eighty percent of success is showing up. –Woody Allen', 'Twenty years from now you will be more disappointed by the things that you didn’t do than by the ones you did do, so throw off the bowlines, sail away from safe harbor, catch the trade winds in your sails.  Explore, Dream, Discover. –Mark Twain', \"Life isn't about getting and having, it's about giving and being. –Kevin Kruse\"]\n"
     ]
    }
   ],
   "source": [
    "import requests\n",
    "url = 'http://www.webscrapingfordatascience.com/simplejavascript/quotes.php'\n",
    "# Note that cookie values need to be provided as strings\n",
    "r = requests.get(url, cookies={'jsenabled': '1'})\n",
    "print(r.json())"
   ]
  },
  {
   "cell_type": "code",
   "execution_count": null,
   "id": "31e2c337",
   "metadata": {},
   "outputs": [],
   "source": []
  }
 ],
 "metadata": {
  "kernelspec": {
   "display_name": "Python 3",
   "language": "python",
   "name": "python3"
  },
  "language_info": {
   "codemirror_mode": {
    "name": "ipython",
    "version": 3
   },
   "file_extension": ".py",
   "mimetype": "text/x-python",
   "name": "python",
   "nbconvert_exporter": "python",
   "pygments_lexer": "ipython3",
   "version": "3.8.8"
  }
 },
 "nbformat": 4,
 "nbformat_minor": 5
}
