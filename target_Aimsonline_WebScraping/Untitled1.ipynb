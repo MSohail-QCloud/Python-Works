{
 "cells": [
  {
   "cell_type": "code",
   "execution_count": 2,
   "id": "c3250d20",
   "metadata": {},
   "outputs": [],
   "source": [
    "from bs4 import BeautifulSoup\n",
    "import requests"
   ]
  },
  {
   "cell_type": "code",
   "execution_count": 3,
   "id": "8b964dcd",
   "metadata": {},
   "outputs": [
    {
     "data": {
      "text/plain": [
       "<Response [200]>"
      ]
     },
     "execution_count": 3,
     "metadata": {},
     "output_type": "execute_result"
    }
   ],
   "source": [
    "dpci=\"025-03-0027\"\n",
    "link=\"https://www.target.com/s?searchTerm=\"+dpci\n",
    "#link=\"https://www.target.com/p/women-s-active-striped-compression-2pk-knee-high-athletic-socks-all-in-motion-4-10/-/A-78803757?preselect=78463450#lnk=sametab\"\n",
    "page = requests.get(link)#https://www.target.com/s?searchTerm=025-03-0027\n",
    "page"
   ]
  },
  {
   "cell_type": "code",
   "execution_count": 4,
   "id": "8505aeb8",
   "metadata": {},
   "outputs": [],
   "source": [
    "htmlsoup=BeautifulSoup(page.text,\"html.parser\")"
   ]
  },
  {
   "cell_type": "code",
   "execution_count": 6,
   "id": "24a5268f",
   "metadata": {},
   "outputs": [
    {
     "name": "stdout",
     "output_type": "stream",
     "text": [
      "<script>!function(){if(\"PerformanceLongTaskTiming\"in window){var n=window.__tti={e:[]};n.o=new PerformanceObserver(function(e){n.e=n.e.concat(e.getEntries())}),n.o.observe({entryTypes:[\"longtask\"]})}}()</script>\n"
     ]
    }
   ],
   "source": [
    "script_tag = htmlsoup.find('script', attrs={'src': None})\n",
    "print(script_tag)"
   ]
  },
  {
   "cell_type": "code",
   "execution_count": 7,
   "id": "7b9f6ecc",
   "metadata": {},
   "outputs": [
    {
     "name": "stdout",
     "output_type": "stream",
     "text": [
      "<script>!function(){if(\"PerformanceLongTaskTiming\"in window){var n=window.__tti={e:[]};n.o=new PerformanceObserver(function(e){n.e=n.e.concat(e.getEntries())}),n.o.observe({entryTypes:[\"longtask\"]})}}()</script>\n"
     ]
    }
   ],
   "source": [
    "script_tag1 = htmlsoup.find('script')\n",
    "print(script_tag1)"
   ]
  },
  {
   "cell_type": "code",
   "execution_count": null,
   "id": "490e89d8",
   "metadata": {},
   "outputs": [],
   "source": []
  }
 ],
 "metadata": {
  "kernelspec": {
   "display_name": "Python 3",
   "language": "python",
   "name": "python3"
  },
  "language_info": {
   "codemirror_mode": {
    "name": "ipython",
    "version": 3
   },
   "file_extension": ".py",
   "mimetype": "text/x-python",
   "name": "python",
   "nbconvert_exporter": "python",
   "pygments_lexer": "ipython3",
   "version": "3.8.8"
  }
 },
 "nbformat": 4,
 "nbformat_minor": 5
}
