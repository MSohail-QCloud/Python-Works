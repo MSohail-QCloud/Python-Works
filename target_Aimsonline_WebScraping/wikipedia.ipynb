{
 "cells": [
  {
   "cell_type": "code",
   "execution_count": 6,
   "id": "650b79a1",
   "metadata": {},
   "outputs": [],
   "source": [
    "from bs4 import BeautifulSoup\n",
    "import requests"
   ]
  },
  {
   "cell_type": "code",
   "execution_count": 7,
   "id": "df616ef4",
   "metadata": {},
   "outputs": [],
   "source": [
    "import requests\n",
    "url = 'https://en.wikipedia.org/w/index.php' + \\\n",
    "'?title=List_of_Game_of_Thrones_episodes&oldid=802553687'\n",
    "r = requests.get(url)\n",
    "html_contents = r.text"
   ]
  },
  {
   "cell_type": "code",
   "execution_count": 8,
   "id": "2e4b0fcf",
   "metadata": {},
   "outputs": [
    {
     "data": {
      "text/plain": [
       "<Response [200]>"
      ]
     },
     "execution_count": 8,
     "metadata": {},
     "output_type": "execute_result"
    }
   ],
   "source": [
    "r"
   ]
  },
  {
   "cell_type": "code",
   "execution_count": 9,
   "id": "2fea426f",
   "metadata": {},
   "outputs": [],
   "source": [
    "html_soup = BeautifulSoup(html_contents)"
   ]
  },
  {
   "cell_type": "code",
   "execution_count": 12,
   "id": "f729cc21",
   "metadata": {},
   "outputs": [
    {
     "name": "stdout",
     "output_type": "stream",
     "text": [
      "------------ CITATIONS ------------\n",
      "Fowler, Matt (April 8, 2011). \"Game of Thrones: \"Winter is Coming\" Review\". IGN. Archived from the original on August 17, 2012. Retrieved September 22, 2016.\n",
      "https://web.archive.org/web/20120817073932/http://tv.ign.com/articles/116/1160215p1.html\n",
      "\n",
      "Fleming, Michael (January 16, 2007). \"HBO turns Fire into fantasy series\". Variety. Archived from the original on May 16, 2012. Retrieved September 3, 2016.\n",
      "https://web.archive.org/web/20120516224747/http://www.variety.com/article/VR1117957532?refCatId=14\n",
      "\n",
      "\"Game of Thrones\". Emmys.com. Retrieved September 17, 2016.\n",
      "http://www.emmys.com/shows/game-thrones\n",
      "\n",
      "Roberts, Josh (April 1, 2012). \"Where HBO's hit 'Game of Thrones' was filmed\". USA Today. Archived from the original on April 1, 2012. Retrieved March 8, 2013.\n",
      "https://web.archive.org/web/20120401123724/http://travel.usatoday.com/destinations/story/2012-04-01/Where-the-HBO-hit-Game-of-Thrones-was-filmed/53876876/1\n",
      "\n",
      "Schwartz, Terri (January 28, 2013). \"'Game of Thrones' casts a bear and shoots in Los Angeles for major Season 3 scene\". Zap2it. Archived from the original on October 16, 2013. Retrieved March 8, 2013.\n",
      "https://web.archive.org/web/20131016062544/http://blog.zap2it.com/frominsidethebox/2013/01/game-of-thrones-casts-a-bear-and-shoots-in-los-angeles-for-major-season-3-scene.html\n",
      "\n"
     ]
    }
   ],
   "source": [
    "print('------------ CITATIONS ------------')\n",
    "# Find the first five cite elements with a citation class\n",
    "cites = html_soup.find_all('cite', class_='citation', limit=5)\n",
    "for citation in cites:\n",
    "    print(citation.get_text())\n",
    "# Inside of this cite element, find the first a tag\n",
    "    link = citation.find('a')\n",
    "# ... and show its URL\n",
    "    print(link.get('href'))\n",
    "    print()"
   ]
  },
  {
   "cell_type": "code",
   "execution_count": null,
   "id": "ac6ac0e1",
   "metadata": {},
   "outputs": [],
   "source": []
  }
 ],
 "metadata": {
  "kernelspec": {
   "display_name": "Python 3",
   "language": "python",
   "name": "python3"
  },
  "language_info": {
   "codemirror_mode": {
    "name": "ipython",
    "version": 3
   },
   "file_extension": ".py",
   "mimetype": "text/x-python",
   "name": "python",
   "nbconvert_exporter": "python",
   "pygments_lexer": "ipython3",
   "version": "3.8.8"
  }
 },
 "nbformat": 4,
 "nbformat_minor": 5
}
