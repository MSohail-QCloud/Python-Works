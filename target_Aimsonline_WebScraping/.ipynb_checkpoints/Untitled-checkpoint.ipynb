{
 "cells": [
  {
   "cell_type": "code",
   "execution_count": 1,
   "id": "53b45b3d",
   "metadata": {},
   "outputs": [],
   "source": [
    "from bs4 import BeautifulSoup"
   ]
  },
  {
   "cell_type": "code",
   "execution_count": 2,
   "id": "f4e649ce",
   "metadata": {},
   "outputs": [
    {
     "data": {
      "text/plain": [
       "<Response [200]>"
      ]
     },
     "execution_count": 2,
     "metadata": {},
     "output_type": "execute_result"
    }
   ],
   "source": [
    "import requests\n",
    "dpci=\"025-03-0027\"\n",
    "#link=\"https://www.target.com/s?searchTerm=\"+dpci\n",
    "link=\"https://www.target.com/p/women-s-active-striped-compression-2pk-knee-high-athletic-socks-all-in-motion-4-10/-/A-78803757?preselect=78463450#lnk=sametab\"\n",
    "page = requests.get(link)#https://www.target.com/s?searchTerm=025-03-0027\n",
    "page"
   ]
  },
  {
   "cell_type": "markdown",
   "id": "80d0e9b2",
   "metadata": {},
   "source": [
    "page.text"
   ]
  },
  {
   "cell_type": "code",
   "execution_count": 9,
   "id": "c9febe15",
   "metadata": {},
   "outputs": [],
   "source": [
    "html_data=BeautifulSoup(page.text)"
   ]
  },
  {
   "cell_type": "markdown",
   "id": "22b748ed",
   "metadata": {},
   "source": [
    "html_data"
   ]
  },
  {
   "cell_type": "code",
   "execution_count": null,
   "id": "df305953",
   "metadata": {},
   "outputs": [],
   "source": [
    "html_data=BeautifulSoup(page.text,\"html.parser\")"
   ]
  }
 ],
 "metadata": {
  "kernelspec": {
   "display_name": "Python 3",
   "language": "python",
   "name": "python3"
  },
  "language_info": {
   "codemirror_mode": {
    "name": "ipython",
    "version": 3
   },
   "file_extension": ".py",
   "mimetype": "text/x-python",
   "name": "python",
   "nbconvert_exporter": "python",
   "pygments_lexer": "ipython3",
   "version": "3.8.8"
  }
 },
 "nbformat": 4,
 "nbformat_minor": 5
}
