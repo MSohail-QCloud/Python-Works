{
 "cells": [
  {
   "cell_type": "code",
   "execution_count": 3,
   "metadata": {},
   "outputs": [
    {
     "name": "stdout",
     "output_type": "stream",
     "text": [
      "Welcome to Password Generator\n",
      "How many letters would you like in your Password? \n",
      "5\n",
      "How many Symbols would you like in your password? \n",
      "2\n",
      "How many numbers would you like in your password? \n",
      "5\n",
      "kjdoj!!79839\n"
     ]
    }
   ],
   "source": [
    "import random\n",
    "print(\"Welcome to Password Generator\")\n",
    "letters=['a','b','c','d','e','f','g','h','i','j','k','l','m',\n",
    "         'n','o','p','q','r','s','t','u','v','w','x','y','z']\n",
    "numbers=['0','1','2','3','4','5','6','7','8','9']\n",
    "symbols=['!','#','$','%','&','(',')','*','+']\n",
    "\n",
    "num_letter=int(input(\"How many letters would you like in your Password? \\n\"))\n",
    "nr_symb=int(input(\"How many Symbols would you like in your password? \\n\"))\n",
    "nr_numb=int(input(\"How many numbers would you like in your password? \\n\"))\n",
    "str_password=\"\";\n",
    "for n in range(0,num_letter):\n",
    "    rand_num=random.randint(0,len(letters)-1)\n",
    "    str_password+=letters[rand_num]\n",
    "for n in range(0,nr_symb):\n",
    "    rand_num=random.randint(0,len(symbols)-1)\n",
    "    str_password+=symbols[rand_num]\n",
    "for n in range(0,nr_numb):\n",
    "    rand_num=random.randint(0,len(numbers)-1)\n",
    "    str_password+=numbers[rand_num]\n",
    "print(str_password)"
   ]
  },
  {
   "cell_type": "code",
   "execution_count": null,
   "metadata": {},
   "outputs": [],
   "source": []
  }
 ],
 "metadata": {
  "kernelspec": {
   "display_name": "Python 3",
   "language": "python",
   "name": "python3"
  },
  "language_info": {
   "codemirror_mode": {
    "name": "ipython",
    "version": 3
   },
   "file_extension": ".py",
   "mimetype": "text/x-python",
   "name": "python",
   "nbconvert_exporter": "python",
   "pygments_lexer": "ipython3",
   "version": "3.7.4"
  }
 },
 "nbformat": 4,
 "nbformat_minor": 2
}
