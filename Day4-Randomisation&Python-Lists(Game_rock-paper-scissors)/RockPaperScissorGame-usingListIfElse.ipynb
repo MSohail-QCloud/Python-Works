{
 "cells": [
  {
   "cell_type": "code",
   "execution_count": 1,
   "metadata": {},
   "outputs": [],
   "source": [
    "rock = '''\n",
    "    _______\n",
    "---'   ____)\n",
    "      (_____)\n",
    "      (_____)\n",
    "      (____)\n",
    "---.__(___)\n",
    "'''"
   ]
  },
  {
   "cell_type": "code",
   "execution_count": 2,
   "metadata": {},
   "outputs": [
    {
     "data": {
      "text/plain": [
       "\"\\n    _______\\n---'   ____)\\n      (_____)\\n      (_____)\\n      (____)\\n---.__(___)\\n\""
      ]
     },
     "execution_count": 2,
     "metadata": {},
     "output_type": "execute_result"
    }
   ],
   "source": [
    "rock"
   ]
  },
  {
   "cell_type": "code",
   "execution_count": 3,
   "metadata": {},
   "outputs": [],
   "source": [
    "paper = '''\n",
    "    _______\n",
    "---'   ____)____\n",
    "          ______)\n",
    "          _______)\n",
    "         _______)\n",
    "---.__________)\n",
    "'''"
   ]
  },
  {
   "cell_type": "code",
   "execution_count": 4,
   "metadata": {},
   "outputs": [],
   "source": [
    "scissors = '''\n",
    "    _______\n",
    "---'   ____)____\n",
    "          ______)\n",
    "       __________)\n",
    "      (____)\n",
    "---.__(___)\n",
    "'''"
   ]
  },
  {
   "cell_type": "code",
   "execution_count": 5,
   "metadata": {},
   "outputs": [],
   "source": [
    "import random"
   ]
  },
  {
   "cell_type": "code",
   "execution_count": 6,
   "metadata": {},
   "outputs": [],
   "source": [
    "game=[rock,paper,scissors]"
   ]
  },
  {
   "cell_type": "code",
   "execution_count": 15,
   "metadata": {},
   "outputs": [
    {
     "name": "stdout",
     "output_type": "stream",
     "text": [
      "Please enter your choice.\n",
      "3\n",
      "\n",
      "    _______\n",
      "---'   ____)\n",
      "      (_____)\n",
      "      (_____)\n",
      "      (____)\n",
      "---.__(___)\n",
      "\n",
      "You win!🎉 \n"
     ]
    }
   ],
   "source": [
    "userchoice=int(input(\"Please enter your choice.\\n\"))\n",
    "if userchoice<3 and userchoice>=0:\n",
    "    print(game[userchoice])\n",
    "computerchoice=random.randint(0,2)\n",
    "print(game[computerchoice])\n",
    "if userchoice == 0 and computerchoice == 2:\n",
    "    print(\"You win! 🎉\")\n",
    "elif computerchoice == 0 and userchoice == 2:\n",
    "    print(\"You lose.  ☠\")\n",
    "elif computerchoice > userchoice:\n",
    "    print(\"You lose. ☠\")\n",
    "elif userchoice > computerchoice:\n",
    "    print(\"You win!🎉 \")\n",
    "elif computerchoice == userchoice:\n",
    "    print(\"It's a draw.\")\n",
    "elif userchoice >= 3 or userchoice < 0:\n",
    "    print(\"You typed an invalid number, You Lose.  ☠\")"
   ]
  },
  {
   "cell_type": "code",
   "execution_count": null,
   "metadata": {},
   "outputs": [],
   "source": []
  }
 ],
 "metadata": {
  "kernelspec": {
   "display_name": "Python 3",
   "language": "python",
   "name": "python3"
  },
  "language_info": {
   "codemirror_mode": {
    "name": "ipython",
    "version": 3
   },
   "file_extension": ".py",
   "mimetype": "text/x-python",
   "name": "python",
   "nbconvert_exporter": "python",
   "pygments_lexer": "ipython3",
   "version": "3.7.4"
  }
 },
 "nbformat": 4,
 "nbformat_minor": 2
}
