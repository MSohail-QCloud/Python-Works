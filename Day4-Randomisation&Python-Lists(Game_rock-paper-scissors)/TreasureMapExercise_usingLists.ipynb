{
 "cells": [
  {
   "cell_type": "code",
   "execution_count": 8,
   "metadata": {},
   "outputs": [],
   "source": [
    "row1=[\" \",\" \",\" \"]\n",
    "row2=[\" \",\" \",\" \"]\n",
    "row3=[\" \",\" \",\" \"]"
   ]
  },
  {
   "cell_type": "code",
   "execution_count": 9,
   "metadata": {},
   "outputs": [],
   "source": [
    "map=[row1,row2,row3]"
   ]
  },
  {
   "cell_type": "code",
   "execution_count": 10,
   "metadata": {},
   "outputs": [
    {
     "name": "stdout",
     "output_type": "stream",
     "text": [
      "[' ', ' ', ' ']\n",
      "[' ', ' ', ' ']\n",
      "[' ', ' ', ' ']\n"
     ]
    }
   ],
   "source": [
    "print(f\"{row1}\\n{row2}\\n{row3}\")"
   ]
  },
  {
   "cell_type": "code",
   "execution_count": 15,
   "metadata": {},
   "outputs": [
    {
     "name": "stdout",
     "output_type": "stream",
     "text": [
      "where do you want to enter x: 11\n",
      "['x', ' ', ' ']\n",
      "[' ', ' ', 'x']\n",
      "[' ', 'x', ' ']\n"
     ]
    }
   ],
   "source": [
    "position =(input(\"where do you want to enter x: \"))\n",
    "#a=[int(d) for d in str(treasure_location)]\n",
    "col=int(position[0]) \n",
    "row=int(position[1])\n",
    "selected_row=map[row-1]\n",
    "selected_row[col-1]=\"x\"\n",
    "print(f\"{row1}\\n{row2}\\n{row3}\")\n"
   ]
  },
  {
   "cell_type": "code",
   "execution_count": null,
   "metadata": {},
   "outputs": [],
   "source": []
  }
 ],
 "metadata": {
  "kernelspec": {
   "display_name": "Python 3",
   "language": "python",
   "name": "python3"
  },
  "language_info": {
   "codemirror_mode": {
    "name": "ipython",
    "version": 3
   },
   "file_extension": ".py",
   "mimetype": "text/x-python",
   "name": "python",
   "nbconvert_exporter": "python",
   "pygments_lexer": "ipython3",
   "version": "3.7.4"
  }
 },
 "nbformat": 4,
 "nbformat_minor": 2
}
